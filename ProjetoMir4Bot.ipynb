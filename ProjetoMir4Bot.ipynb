{
  "nbformat": 4,
  "nbformat_minor": 0,
  "metadata": {
    "colab": {
      "name": "ProjetoMir4Bot.ipynb",
      "provenance": [],
      "collapsed_sections": [],
      "authorship_tag": "ABX9TyMUtViRIMWYxwkDcuXP+czc",
      "include_colab_link": true
    },
    "kernelspec": {
      "name": "python3",
      "display_name": "Python 3"
    },
    "language_info": {
      "name": "python"
    }
  },
  "cells": [
    {
      "cell_type": "markdown",
      "metadata": {
        "id": "view-in-github",
        "colab_type": "text"
      },
      "source": [
        "<a href=\"https://colab.research.google.com/github/jvrupp/NFTbot/blob/main/ProjetoMir4Bot.ipynb\" target=\"_parent\"><img src=\"https://colab.research.google.com/assets/colab-badge.svg\" alt=\"Open In Colab\"/></a>"
      ]
    },
    {
      "cell_type": "code",
      "execution_count": 7,
      "metadata": {
        "colab": {
          "base_uri": "https://localhost:8080/"
        },
        "id": "QcIjpbdxWFUv",
        "outputId": "0393c222-aec3-4909-cee2-4b2edbc39acb"
      },
      "outputs": [
        {
          "output_type": "stream",
          "name": "stdout",
          "text": [
            "Mounted at /content/drive\n"
          ]
        }
      ],
      "source": [
        "import matplotlib.pyplot as plt\n",
        "import pandas as pd\n",
        "import numpy as np\n",
        "from google.colab import drive\n",
        "drive.mount('/content/drive')\n",
        "from sklearn.metrics import mean_absolute_error"
      ]
    },
    {
      "cell_type": "code",
      "source": [
        "data=pd.read_csv('/content/drive/MyDrive/DataMir4/out2.csv')\n",
        "data[ 'preco' ] =  data[ 'preco' ] * 17.9614\n",
        "steelBox = data['nome_item'] =='[E] Steel Box'#insira o nome\n",
        "steelBox = data[steelBox]\n",
        "\n",
        "steelBox[ 'preco2' ] = steelBox.preco.rolling(7).mean() "
      ],
      "metadata": {
        "colab": {
          "base_uri": "https://localhost:8080/"
        },
        "id": "9dhgi72xevGB",
        "outputId": "e54f84d2-5a23-42ee-e8f0-b46676e3dbeb"
      },
      "execution_count": 8,
      "outputs": [
        {
          "output_type": "stream",
          "name": "stderr",
          "text": [
            "/usr/local/lib/python3.7/dist-packages/ipykernel_launcher.py:6: SettingWithCopyWarning: \n",
            "A value is trying to be set on a copy of a slice from a DataFrame.\n",
            "Try using .loc[row_indexer,col_indexer] = value instead\n",
            "\n",
            "See the caveats in the documentation: https://pandas.pydata.org/pandas-docs/stable/user_guide/indexing.html#returning-a-view-versus-a-copy\n",
            "  \n"
          ]
        }
      ]
    },
    {
      "cell_type": "code",
      "source": [
        "X =steelBox['data'].values\n",
        "Y =steelBox['preco2'].values\n",
        "Y2=steelBox['preco'].values\n",
        "X = X[6:]\n",
        "Y = Y[6:]\n",
        "Y2 = Y2[6:]"
      ],
      "metadata": {
        "id": "UBY0RDZteyv7"
      },
      "execution_count": 9,
      "outputs": []
    },
    {
      "cell_type": "code",
      "source": [
        "def verificaDegree(X,Y):\n",
        "    wcss =[]\n",
        "    for i in range(11):    \n",
        "        function=np.polyfit(X,Y,i)\n",
        "        modelo3=np.poly1d(function)\n",
        "        y3=modelo3(X)\n",
        "        mae3=mean_absolute_error(Y,y3)\n",
        "        wcss.append(mae3)\n",
        "    return (pd.DataFrame(wcss),y3)\n",
        "\n",
        "def PlotLin(X,Y,grau):   \n",
        "    function=np.polyfit(X,Y,grau)\n",
        "    modelo3=np.poly1d(function)\n",
        "    y3=modelo3(X)\n",
        "    return (y3,modelo3)\n",
        "\n",
        "def elbowMethod(dados):\n",
        "    wcss=[]\n",
        "    dados_cluster = dados.values\n",
        "    dados_cluster[:,0]\n",
        "    for i in range(1,11):\n",
        "        KM=KMeans(n_clusters=i,random_state=42)\n",
        "        KM.fit(dados_cluster)\n",
        "        wcss.append(KM.inertia_)\n",
        "        \n",
        "    wcss =pd.DataFrame(wcss)\n",
        "    return wcss\n",
        "\n",
        "#wcss=elbowMethod(hip_compras)\n",
        "\n",
        "def kmeans(dados,n):\n",
        "    KM=KMeans(n_clusters=n,random_state=42,init='k-means++')\n",
        "    predict=KM.fit_predict(dados)\n",
        "    return predict"
      ],
      "metadata": {
        "id": "_fh5zpJce0KW"
      },
      "execution_count": 10,
      "outputs": []
    },
    {
      "cell_type": "code",
      "source": [
        "#wcss,y3=verificaDegree(X,Y)\n",
        "y3,modelo=PlotLin(X,Y,5)\n",
        "\n",
        "\n",
        "plt.scatter(X,Y)\n",
        "plt.plot(X,y3,color='red')\n",
        "plt.tight_layout()\n",
        "\n",
        "#Calculando a \n",
        "\n",
        "dados_distancias = pd.DataFrame()\n",
        "distancias =[]\n",
        "\n",
        "for k,i in enumerate(list(X)):\n",
        "    distancias.append(modelo(i)-Y2[k])\n",
        "\n",
        "\n",
        "dados_distancias['tempos'] = pd.Series(X)\n",
        "dados_distancias['precos'] = pd.Series(Y2)\n",
        "dados_distancias['precos_modelo'] = pd.Series(y3)\n",
        "dados_distancias['distancias'] = pd.Series(distancias)\n",
        "\n",
        "\n",
        "hip_compras = dados_distancias[dados_distancias['distancias'] >=0]\n",
        "\n",
        "#Processod e clusterizacao\n",
        "from sklearn.cluster import KMeans\n"
      ],
      "metadata": {
        "colab": {
          "base_uri": "https://localhost:8080/",
          "height": 332
        },
        "id": "sA3O2pXre2ER",
        "outputId": "3bf61807-018d-4212-e67b-e316bd3c20d9"
      },
      "execution_count": 11,
      "outputs": [
        {
          "output_type": "stream",
          "name": "stderr",
          "text": [
            "/usr/local/lib/python3.7/dist-packages/ipykernel_launcher.py:2: RankWarning: Polyfit may be poorly conditioned\n",
            "  \n"
          ]
        },
        {
          "output_type": "display_data",
          "data": {
            "text/plain": [
              "<Figure size 432x288 with 1 Axes>"
            ],
            "image/png": "[encoded data removed]"
          },
          "metadata": {
            "needs_background": "light"
          }
        }
      ]
    },
    {
      "cell_type": "code",
      "source": [
        "hip_compras['uns'] = np.ones(shape=(hip_compras.shape[0],1))\n",
        "hip_compras['grupos'] = kmeans(hip_compras.iloc[:,3:],6)\n",
        "\n",
        "#Selecionar os grupos\n",
        "grupos = [1,2,3,4,5]\n",
        "classificacao = []\n",
        "\n",
        "\n",
        "for k,g in enumerate(grupos):    \n",
        "    temp=hip_compras[hip_compras['grupos'] == g]\n",
        "    classificacao.append((temp['distancias'].mean(),k))\n",
        "    indice=max(classificacao)[1]+1\n",
        "\n",
        "compra=hip_compras[hip_compras['grupos'] == indice]\n",
        "    \n",
        "\n",
        "\n",
        "compra['dt']=pd.to_datetime(compra['tempos'], unit='s')\n",
        "\n",
        "\n",
        "\"\"\"\n",
        "compra['grupos_F'] = kmeans(compra.iloc[:,[1,4]],2)\n",
        "\n",
        "\n",
        "grupos_f = [1,2]\n",
        "classificacao_f = []\n",
        "\n",
        "\n",
        "\n",
        "for k,g in enumerate(grupos_f):    \n",
        "    temp=compra[compra['grupos'] == g]\n",
        "    classificacao_f.append((temp['distancias'].mean(),k))\n",
        "    indice=min(classificacao_f)[1]+1\n",
        "\n",
        "compra=compra[compra['grupos_F'] == indice]\n",
        "\"\"\"\n",
        "#tirar as variacoes de MSE relativa a curva da media movel\n",
        "#clusterizar os diferentes tipos de movimentos(normal,forte)e tudo que for fora , tratar como uma anomalia , sendo ela positiva ou negativa"
      ],
      "metadata": {
        "colab": {
          "base_uri": "https://localhost:8080/",
          "height": 365
        },
        "id": "mrtZatyte-wl",
        "outputId": "3fdc8bc3-7430-4e7c-c347-f9218b11f8c7"
      },
      "execution_count": 12,
      "outputs": [
        {
          "output_type": "stream",
          "name": "stderr",
          "text": [
            "/usr/local/lib/python3.7/dist-packages/ipykernel_launcher.py:1: SettingWithCopyWarning: \n",
            "A value is trying to be set on a copy of a slice from a DataFrame.\n",
            "Try using .loc[row_indexer,col_indexer] = value instead\n",
            "\n",
            "See the caveats in the documentation: https://pandas.pydata.org/pandas-docs/stable/user_guide/indexing.html#returning-a-view-versus-a-copy\n",
            "  \"\"\"Entry point for launching an IPython kernel.\n",
            "/usr/local/lib/python3.7/dist-packages/ipykernel_launcher.py:2: SettingWithCopyWarning: \n",
            "A value is trying to be set on a copy of a slice from a DataFrame.\n",
            "Try using .loc[row_indexer,col_indexer] = value instead\n",
            "\n",
            "See the caveats in the documentation: https://pandas.pydata.org/pandas-docs/stable/user_guide/indexing.html#returning-a-view-versus-a-copy\n",
            "  \n",
            "/usr/local/lib/python3.7/dist-packages/ipykernel_launcher.py:18: SettingWithCopyWarning: \n",
            "A value is trying to be set on a copy of a slice from a DataFrame.\n",
            "Try using .loc[row_indexer,col_indexer] = value instead\n",
            "\n",
            "See the caveats in the documentation: https://pandas.pydata.org/pandas-docs/stable/user_guide/indexing.html#returning-a-view-versus-a-copy\n"
          ]
        },
        {
          "output_type": "execute_result",
          "data": {
            "text/plain": [
              "\"\\ncompra['grupos_F'] = kmeans(compra.iloc[:,[1,4]],2)\\n\\n\\ngrupos_f = [1,2]\\nclassificacao_f = []\\n\\n\\n\\nfor k,g in enumerate(grupos_f):    \\n    temp=compra[compra['grupos'] == g]\\n    classificacao_f.append((temp['distancias'].mean(),k))\\n    indice=min(classificacao_f)[1]+1\\n\\ncompra=compra[compra['grupos_F'] == indice]\\n\""
            ],
            "application/vnd.google.colaboratory.intrinsic+json": {
              "type": "string"
            }
          },
          "metadata": {},
          "execution_count": 12
        }
      ]
    },
    {
      "cell_type": "markdown",
      "source": [
        "Saida Das Exelentes oportunidades de compra"
      ],
      "metadata": {
        "id": "sGPmA4rmf4uM"
      }
    },
    {
      "cell_type": "code",
      "source": [
        "compra"
      ],
      "metadata": {
        "colab": {
          "base_uri": "https://localhost:8080/",
          "height": 112
        },
        "id": "Cv6WtKvofCNf",
        "outputId": "d436c029-ec0b-49f3-f3a7-0242719a74ae"
      },
      "execution_count": 13,
      "outputs": [
        {
          "output_type": "execute_result",
          "data": {
            "text/plain": [
              "           tempos   precos  precos_modelo  distancias  uns  grupos  \\\n",
              "175  1.644766e+09  17.9614      32.293694   14.332294  1.0       2   \n",
              "293  1.644734e+09  17.9614      31.742027   13.780627  1.0       2   \n",
              "\n",
              "                     dt  \n",
              "175 2022-02-13 15:26:30  \n",
              "293 2022-02-13 06:29:10  "
            ],
            "text/html": [
              "\n",
              "  <div id=\"df-edeb8737-04aa-4406-b071-498839e5600d\">\n",
              "    <div class=\"colab-df-container\">\n",
              "      <div>\n",
              "<style scoped>\n",
              "    .dataframe tbody tr th:only-of-type {\n",
              "        vertical-align: middle;\n",
              "    }\n",
              "\n",
              "    .dataframe tbody tr th {\n",
              "        vertical-align: top;\n",
              "    }\n",
              "\n",
              "    .dataframe thead th {\n",
              "        text-align: right;\n",
              "    }\n",
              "</style>\n",
              "<table border=\"1\" class=\"dataframe\">\n",
              "  <thead>\n",
              "    <tr style=\"text-align: right;\">\n",
              "      <th></th>\n",
              "      <th>tempos</th>\n",
              "      <th>precos</th>\n",
              "      <th>precos_modelo</th>\n",
              "      <th>distancias</th>\n",
              "      <th>uns</th>\n",
              "      <th>grupos</th>\n",
              "      <th>dt</th>\n",
              "    </tr>\n",
              "  </thead>\n",
              "  <tbody>\n",
              "    <tr>\n",
              "      <th>175</th>\n",
              "      <td>1.644766e+09</td>\n",
              "      <td>17.9614</td>\n",
              "      <td>32.293694</td>\n",
              "      <td>14.332294</td>\n",
              "      <td>1.0</td>\n",
              "      <td>2</td>\n",
              "      <td>2022-02-13 15:26:30</td>\n",
              "    </tr>\n",
              "    <tr>\n",
              "      <th>293</th>\n",
              "      <td>1.644734e+09</td>\n",
              "      <td>17.9614</td>\n",
              "      <td>31.742027</td>\n",
              "      <td>13.780627</td>\n",
              "      <td>1.0</td>\n",
              "      <td>2</td>\n",
              "      <td>2022-02-13 06:29:10</td>\n",
              "    </tr>\n",
              "  </tbody>\n",
              "</table>\n",
              "</div>\n",
              "      <button class=\"colab-df-convert\" onclick=\"convertToInteractive('df-edeb8737-04aa-4406-b071-498839e5600d')\"\n",
              "              title=\"Convert this dataframe to an interactive table.\"\n",
              "              style=\"display:none;\">\n",
              "        \n",
              "  <svg xmlns=\"http://www.w3.org/2000/svg\" height=\"24px\"viewBox=\"0 0 24 24\"\n",
              "       width=\"24px\">\n",
              "    <path d=\"M0 0h24v24H0V0z\" fill=\"none\"/>\n",
              "    <path d=\"M18.56 5.44l.94 2.06.94-2.06 2.06-.94-2.06-.94-.94-2.06-.94 2.06-2.06.94zm-11 1L8.5 8.5l.94-2.06 2.06-.94-2.06-.94L8.5 2.5l-.94 2.06-2.06.94zm10 10l.94 2.06.94-2.06 2.06-.94-2.06-.94-.94-2.06-.94 2.06-2.06.94z\"/><path d=\"M17.41 7.96l-1.37-1.37c-.4-.4-.92-.59-1.43-.59-.52 0-1.04.2-1.43.59L10.3 9.45l-7.72 7.72c-.78.78-.78 2.05 0 2.83L4 21.41c.39.39.9.59 1.41.59.51 0 1.02-.2 1.41-.59l7.78-7.78 2.81-2.81c.8-.78.8-2.07 0-2.86zM5.41 20L4 18.59l7.72-7.72 1.47 1.35L5.41 20z\"/>\n",
              "  </svg>\n",
              "      </button>\n",
              "      \n",
              "  <style>\n",
              "    .colab-df-container {\n",
              "      display:flex;\n",
              "      flex-wrap:wrap;\n",
              "      gap: 12px;\n",
              "    }\n",
              "\n",
              "    .colab-df-convert {\n",
              "      background-color: #E8F0FE;\n",
              "      border: none;\n",
              "      border-radius: 50%;\n",
              "      cursor: pointer;\n",
              "      display: none;\n",
              "      fill: #1967D2;\n",
              "      height: 32px;\n",
              "      padding: 0 0 0 0;\n",
              "      width: 32px;\n",
              "    }\n",
              "\n",
              "    .colab-df-convert:hover {\n",
              "      background-color: #E2EBFA;\n",
              "      box-shadow: 0px 1px 2px rgba(60, 64, 67, 0.3), 0px 1px 3px 1px rgba(60, 64, 67, 0.15);\n",
              "      fill: #174EA6;\n",
              "    }\n",
              "\n",
              "    [theme=dark] .colab-df-convert {\n",
              "      background-color: #3B4455;\n",
              "      fill: #D2E3FC;\n",
              "    }\n",
              "\n",
              "    [theme=dark] .colab-df-convert:hover {\n",
              "      background-color: #434B5C;\n",
              "      box-shadow: 0px 1px 3px 1px rgba(0, 0, 0, 0.15);\n",
              "      filter: drop-shadow(0px 1px 2px rgba(0, 0, 0, 0.3));\n",
              "      fill: #FFFFFF;\n",
              "    }\n",
              "  </style>\n",
              "\n",
              "      <script>\n",
              "        const buttonEl =\n",
              "          document.querySelector('#df-edeb8737-04aa-4406-b071-498839e5600d button.colab-df-convert');\n",
              "        buttonEl.style.display =\n",
              "          google.colab.kernel.accessAllowed ? 'block' : 'none';\n",
              "\n",
              "        async function convertToInteractive(key) {\n",
              "          const element = document.querySelector('#df-edeb8737-04aa-4406-b071-498839e5600d');\n",
              "          const dataTable =\n",
              "            await google.colab.kernel.invokeFunction('convertToInteractive',\n",
              "                                                     [key], {});\n",
              "          if (!dataTable) return;\n",
              "\n",
              "          const docLinkHtml = 'Like what you see? Visit the ' +\n",
              "            '<a target=\"_blank\" href=https://colab.research.google.com/notebooks/data_table.ipynb>data table notebook</a>'\n",
              "            + ' to learn more about interactive tables.';\n",
              "          element.innerHTML = '';\n",
              "          dataTable['output_type'] = 'display_data';\n",
              "          await google.colab.output.renderOutput(dataTable, element);\n",
              "          const docLink = document.createElement('div');\n",
              "          docLink.innerHTML = docLinkHtml;\n",
              "          element.appendChild(docLink);\n",
              "        }\n",
              "      </script>\n",
              "    </div>\n",
              "  </div>\n",
              "  "
            ]
          },
          "metadata": {},
          "execution_count": 13
        }
      ]
    },
    {
      "cell_type": "code",
      "source": [
        "\n",
        "import seaborn as sns\n",
        "\n",
        "\n",
        "\n",
        "data=pd.read_csv('/content/drive/MyDrive/DataMir4/out2.csv')\n",
        "\n",
        "data['data'] = pd.to_datetime(data['data'], unit='s')\n",
        "steelBox = data['nome_item'] =='[E] Steel Box'\n",
        "steelBox = data[steelBox]\n",
        "qtd_datas=data['data'].value_counts()\n",
        "\n",
        "\n",
        "mais_vandidos = data['nome_item'].value_counts()\n",
        "#sns.lineplot(x='data', y='preco2',data=steelBox)\n"
      ],
      "metadata": {
        "id": "CWK9fmMTf2PF"
      },
      "execution_count": 15,
      "outputs": []
    },
    {
      "cell_type": "code",
      "source": [
        "\n",
        "def PlotChart(nome,chave):\n",
        "    \n",
        "    BA = data['nome_item'] == nome\n",
        "    BA = data[BA]\n",
        "    \n",
        "\n",
        "    BA[ 'preco2' ] = BA.preco.rolling( 7).mean() \n",
        "    \n",
        "    if chave == 1:\n",
        "        return sns.lineplot(x='data', y='preco2',data=BA)\n",
        "    else:\n",
        "        return sns.lineplot(x='data', y='preco',data=BA)\n",
        "    \n",
        "    \n",
        "\n",
        "def ExtractDays(dados):\n",
        "    dias = []\n",
        "    meses =[]\n",
        "    datas = pd.DataFrame()\n",
        "    for i in range(steelBox.shape[0]):\n",
        "        meses.append(dados['data'].iloc[i].month)\n",
        "        dias.append(dados['data'].iloc[i].day)\n",
        "        \n",
        "    tempD = pd.Series(dias)\n",
        "    tempM = pd.Series(meses)\n",
        "    datas['dias']=tempD\n",
        "    datas['meses'] = tempM     \n",
        "    return datas\n",
        "\n",
        "datas_volume=ExtractDays(steelBox)\n",
        "\n",
        "\n",
        "def filtraDatas(datas_volume,meses):\n",
        "    dias_volume = datas_volume[datas_volume['meses']==meses]\n",
        "    dias_volume_counts = dias_volume['dias'].value_counts()\n",
        "    return dias_volume_counts\n",
        "\n",
        "def volumeHistorico(serie,datas_volume):\n",
        "    data_volume_final = {}\n",
        "    for i in serie:\n",
        "        data_volume_final[i]=list(filtraDatas(datas_volume,i))\n",
        "    \n",
        "    return data_volume_final\n",
        "\n",
        "def juntaVolumes(data_volume_final):\n",
        "    temp =[]\n",
        "    for i in data_volume_final:\n",
        "        for j in  range(len(data_volume_final[i])):\n",
        "            temp.append(data_volume_final[i][j])\n",
        "    return temp"
      ],
      "metadata": {
        "id": "It5lR1a7gPEK"
      },
      "execution_count": 16,
      "outputs": []
    },
    {
      "cell_type": "markdown",
      "source": [
        "\n",
        "Fazemos um estudo dos volumes de contratos "
      ],
      "metadata": {
        "id": "w7q4k47pgqoc"
      }
    },
    {
      "cell_type": "code",
      "source": [
        "\n",
        "data_volume_final=volumeHistorico([11,12,1],datas_volume)\n",
        "teste=pd.DataFrame(juntaVolumes(data_volume_final))\n",
        "\n"
      ],
      "metadata": {
        "id": "5PjXBczugZ1b"
      },
      "execution_count": 18,
      "outputs": []
    },
    {
      "cell_type": "code",
      "source": [
        ""
      ],
      "metadata": {
        "id": "RBMCucS4gae_"
      },
      "execution_count": null,
      "outputs": []
    }
  ]
}