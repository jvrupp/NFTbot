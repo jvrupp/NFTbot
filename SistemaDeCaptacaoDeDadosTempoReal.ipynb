{
  "nbformat": 4,
  "nbformat_minor": 0,
  "metadata": {
    "colab": {
      "name": "SistemaDeCaptacaoDeDadosTempoReal.ipynb",
      "provenance": [],
      "authorship_tag": "ABX9TyO3aDSwI7RbzTN6uHKTwo6G",
      "include_colab_link": true
    },
    "kernelspec": {
      "name": "python3",
      "display_name": "Python 3"
    },
    "language_info": {
      "name": "python"
    }
  },
  "cells": [
    {
      "cell_type": "markdown",
      "metadata": {
        "id": "view-in-github",
        "colab_type": "text"
      },
      "source": [
        "<a href=\"https://colab.research.google.com/github/jvrupp/NFTbot/blob/main/SistemaDeCaptacaoDeDadosTempoReal.ipynb\" target=\"_parent\"><img src=\"https://colab.research.google.com/assets/colab-badge.svg\" alt=\"Open In Colab\"/></a>"
      ]
    },
    {
      "cell_type": "markdown",
      "source": [
        "O sistema funciona , mas ainda precisa ter uma lapidaçao na parte de captaçao de restos\n"
      ],
      "metadata": {
        "id": "lA8ShiOSld1m"
      }
    },
    {
      "cell_type": "code",
      "execution_count": null,
      "metadata": {
        "id": "xRXLDlqQkb0Z"
      },
      "outputs": [],
      "source": [
        "from selenium import webdriver\n",
        "from webdriver_manager.chrome import ChromeDriverManager\n",
        "import requests, re\n",
        "import time\n",
        "import json\n",
        "import pandas as pd\n",
        "banco_dados=[]\n",
        "banco_dados2=[]\n",
        "definitive_data={}\n",
        "\n",
        "from selenium.webdriver.chrome.options import Options\n",
        "chrome_options = Options()\n",
        "#chrome_options.add_argument(\"--disable-extensions\")\n",
        "#chrome_options.add_argument(\"--disable-gpu\")\n",
        "#chrome_options.add_argument(\"--no-sandbox\") # linux only\n",
        "chrome_options.add_argument(\"--headless\")\n",
        "# chrome_options.headless = True # also works\n",
        "\n",
        "driver = webdriver.Chrome(executable_path=r'./chromedriver.exe',options=chrome_options)\n",
        "\n",
        "\n",
        "\n",
        "\n",
        "\n",
        "def minera_paginas(paginas_restantes,last):\n",
        "    jp=0#paginas ja adquridas\n",
        "    driver.get('https://webapi.mir4global.com/exd/lists?listType=recent&languageCode=en&page=1&class=0&itemType=0&grade=0&tier=0&enhance=-1&minPrice=0&maxPrice=0&uniqueFlag=0')\n",
        "    codigo_temp=driver.find_element_by_tag_name('pre')\n",
        "    json_string = \"\"\"{}\"\"\".format(codigo_temp.text)\n",
        "    stud_obj = json.loads(json_string)\n",
        "    total_paginas=(stud_obj['data']['totalCount'] - last)//10#total paginas em tempo real\n",
        "    for i in range(1,(paginas_restantes)+1):\n",
        "        varContr=total_paginas-paginas_restantes\n",
        "        \n",
        "        controle = 1 + varContr + jp\n",
        "        driver.get('https://webapi.mir4global.com/exd/lists?listType=recent&languageCode=en&page={}&class=0&itemType=0&grade=0&tier=0&enhance=-1&minPrice=0&maxPrice=0&uniqueFlag=0'.format(controle))\n",
        "        codigo_temp=driver.find_element_by_tag_name('pre')\n",
        "        json_string = \"\"\"{}\"\"\".format(codigo_temp.text)\n",
        "        stud_obj = json.loads(json_string)\n",
        "        total_paginas=(stud_obj['data']['totalCount'] - last)//10\n",
        "        for n in range(0,len(stud_obj['data']['lists'])):\n",
        "            print('minerando paginas')\n",
        "            print(stud_obj['data']['lists'][n]['item']['itemName'],float(stud_obj['data']['lists'][n]['price'])*18,stud_obj['data']['lists'][n]['endTime'],stud_obj['data']['totalCount'] - (jp*10))\n",
        "        jp = jp + 1\n",
        "    \n",
        "    return (jp,controle)\n",
        "        \n",
        "        \n",
        "        \n",
        "\n",
        "def minera_restos(n_paginas,linhas_restantes_pag):\n",
        "    linhas_restantes,paginas_restantes=linhas_restantes_pag\n",
        "    driver.get('https://webapi.mir4global.com/exd/lists?listType=recent&languageCode=en&page=1&class=0&itemType=0&grade=0&tier=0&enhance=-1&minPrice=0&maxPrice=0&uniqueFlag=0')\n",
        "    codigo_temp=driver.find_element_by_tag_name('pre')\n",
        "    json_string = \"\"\"{}\"\"\".format(codigo_temp.text)\n",
        "    stud_obj = json.loads(json_string)\n",
        "    total_paginas=(stud_obj['data']['totalCount'] - last)//10\n",
        "\n",
        "    varContr=total_paginas-paginas_restantes\n",
        "    pag =  1 + n_paginas + varContr\n",
        "    driver.get('https://webapi.mir4global.com/exd/lists?listType=recent&languageCode=en&page={}&class=0&itemType=0&grade=0&tier=0&enhance=-1&minPrice=0&maxPrice=0&uniqueFlag=0'.format(pag))\n",
        "    codigo_temp=driver.find_element_by_tag_name('pre')\n",
        "    json_string = \"\"\"{}\"\"\".format(codigo_temp.text)\n",
        "    stud_obj = json.loads(json_string)\n",
        "    for n in range(0,linhas_restantes):#prestar atencao aqui\n",
        "        print('minerando restos')\n",
        "        print(stud_obj['data']['lists'][n]['item']['itemName'],float(stud_obj['data']['lists'][n]['price'])*18,stud_obj['data']['lists'][n]['endTime'])\n",
        "    return linhas_restantes\n",
        "    \n",
        "    \n",
        "def minera_ambos(paginas_restantes,linhas_restantes,last):\n",
        "    \n",
        "    jp,prox_rest=minera_paginas(paginas_restantes,last)\n",
        "    pag=minera_restos(prox_rest,(linhas_restantes,paginas_restantes))\n",
        "    return jp ,pag\n",
        "    \n",
        "paginas_restantes= 0\n",
        "linhas_restantes = 0\n",
        "last = 11200 #total de linhas que se tem\n",
        "\n",
        "while True:\n",
        "    driver.get('https://webapi.mir4global.com/exd/lists?listType=recent&languageCode=en&page=1&class=0&itemType=0&grade=0&tier=0&enhance=-1&minPrice=0&maxPrice=0&uniqueFlag=0')\n",
        "    \n",
        "    codigo_temp=driver.find_element_by_tag_name('pre')\n",
        "    json_string = \"\"\"{}\"\"\".format(codigo_temp.text)\n",
        "    stud_obj = json.loads(json_string)\n",
        "    paginas_restantes = (stud_obj['data']['totalCount'] - last)//10\n",
        "    linhas_restantes = (stud_obj['data']['totalCount'] - last)%10\n",
        "    if paginas_restantes !=0 or linhas_restantes!=0 :#verifica deficit de dados\n",
        "        if paginas_restantes > 0  and  linhas_restantes == 0:\n",
        "           print('Minera paginas precisando de {} pag '.format(paginas_restantes))\n",
        "           jp,prox_rest=minera_paginas(paginas_restantes,last)\n",
        "           last = last + (jp*10)#last é o que eu peguei\n",
        "           jp=0\n",
        "        elif paginas_restantes == 0  and  linhas_restantes > 0:\n",
        "            print('Minera linhas precisando de  {} restos'.format(linhas_restantes))\n",
        "            #quando caio aqui dentro significa que esotu na ultima pagina disponivel\n",
        "            pag=minera_restos(paginas_restantes,(linhas_restantes,0))#retorna a pagina que o resto esta\n",
        "            last = last + pag\n",
        "            jp=0#last é o que eu peguei\n",
        "        elif paginas_restantes > 0  and  linhas_restantes > 0:\n",
        "            print('Minera ambos precisando de {} pag e {} restos'.format(paginas_restantes,linhas_restantes))\n",
        "            jp,pag=minera_ambos(paginas_restantes, linhas_restantes, last)\n",
        "            last = last + ((jp*10)+pag)#last é o que eu peguei\n",
        "            jp=0\n",
        "        else:\n",
        "            print('nao encontramos nenhum caso')\n",
        "    print(stud_obj['data']['totalCount'],last)"
      ]
    }
  ]
}